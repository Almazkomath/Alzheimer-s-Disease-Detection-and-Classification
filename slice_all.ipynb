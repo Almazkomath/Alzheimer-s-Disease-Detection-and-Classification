{
 "cells": [
  {
   "cell_type": "code",
   "execution_count": 8,
   "id": "d1bebb42-fb28-4060-b3b2-2c0a9864c951",
   "metadata": {},
   "outputs": [
    {
     "name": "stderr",
     "output_type": "stream",
     "text": [
      "Processing MCI:   1%|▋                                                                 | 1/101 [00:01<03:18,  1.98s/it]"
     ]
    },
    {
     "name": "stdout",
     "output_type": "stream",
     "text": [
      "✅ 003_S_6954 processed successfully in MCI\n"
     ]
    },
    {
     "name": "stderr",
     "output_type": "stream",
     "text": [
      "Processing MCI:   2%|█▎                                                                | 2/101 [00:03<02:57,  1.79s/it]"
     ]
    },
    {
     "name": "stdout",
     "output_type": "stream",
     "text": [
      "✅ 005_S_4168 processed successfully in MCI\n"
     ]
    },
    {
     "name": "stderr",
     "output_type": "stream",
     "text": [
      "Processing MCI:   3%|█▉                                                                | 3/101 [00:05<03:03,  1.88s/it]"
     ]
    },
    {
     "name": "stdout",
     "output_type": "stream",
     "text": [
      "✅ 005_S_6427 processed successfully in MCI\n"
     ]
    },
    {
     "name": "stderr",
     "output_type": "stream",
     "text": [
      "Processing MCI:   4%|██▌                                                               | 4/101 [00:07<03:02,  1.88s/it]"
     ]
    },
    {
     "name": "stdout",
     "output_type": "stream",
     "text": [
      "✅ 006_S_4713 processed successfully in MCI\n"
     ]
    },
    {
     "name": "stderr",
     "output_type": "stream",
     "text": [
      "Processing MCI:   5%|███▎                                                              | 5/101 [00:09<03:08,  1.97s/it]"
     ]
    },
    {
     "name": "stdout",
     "output_type": "stream",
     "text": [
      "✅ 006_S_6243 processed successfully in MCI\n"
     ]
    },
    {
     "name": "stderr",
     "output_type": "stream",
     "text": [
      "Processing MCI:   6%|███▉                                                              | 6/101 [00:11<03:00,  1.90s/it]"
     ]
    },
    {
     "name": "stdout",
     "output_type": "stream",
     "text": [
      "✅ 006_S_6252 processed successfully in MCI\n"
     ]
    },
    {
     "name": "stderr",
     "output_type": "stream",
     "text": [
      "Processing MCI:   7%|████▌                                                             | 7/101 [00:13<02:58,  1.90s/it]"
     ]
    },
    {
     "name": "stdout",
     "output_type": "stream",
     "text": [
      "✅ 006_S_6291 processed successfully in MCI\n"
     ]
    },
    {
     "name": "stderr",
     "output_type": "stream",
     "text": [
      "Processing MCI:   8%|█████▏                                                            | 8/101 [00:14<02:40,  1.73s/it]"
     ]
    },
    {
     "name": "stdout",
     "output_type": "stream",
     "text": [
      "✅ 006_S_6441 processed successfully in MCI\n"
     ]
    },
    {
     "name": "stderr",
     "output_type": "stream",
     "text": [
      "Processing MCI:   9%|█████▉                                                            | 9/101 [00:16<02:44,  1.78s/it]"
     ]
    },
    {
     "name": "stdout",
     "output_type": "stream",
     "text": [
      "✅ 006_S_6651 processed successfully in MCI\n"
     ]
    },
    {
     "name": "stderr",
     "output_type": "stream",
     "text": [
      "Processing MCI:  10%|██████▍                                                          | 10/101 [00:18<02:40,  1.77s/it]"
     ]
    },
    {
     "name": "stdout",
     "output_type": "stream",
     "text": [
      "✅ 006_S_6657 processed successfully in MCI\n"
     ]
    },
    {
     "name": "stderr",
     "output_type": "stream",
     "text": [
      "Processing MCI:  11%|███████                                                          | 11/101 [00:20<02:38,  1.76s/it]"
     ]
    },
    {
     "name": "stdout",
     "output_type": "stream",
     "text": [
      "✅ 006_S_6672 processed successfully in MCI\n"
     ]
    },
    {
     "name": "stderr",
     "output_type": "stream",
     "text": [
      "Processing MCI:  12%|███████▋                                                         | 12/101 [00:21<02:28,  1.67s/it]"
     ]
    },
    {
     "name": "stdout",
     "output_type": "stream",
     "text": [
      "✅ 006_S_6674 processed successfully in MCI\n"
     ]
    },
    {
     "name": "stderr",
     "output_type": "stream",
     "text": [
      "Processing MCI:  13%|████████▎                                                        | 13/101 [00:23<02:22,  1.62s/it]"
     ]
    },
    {
     "name": "stdout",
     "output_type": "stream",
     "text": [
      "✅ 006_S_6681 processed successfully in MCI\n"
     ]
    },
    {
     "name": "stderr",
     "output_type": "stream",
     "text": [
      "Processing MCI:  14%|█████████                                                        | 14/101 [00:24<02:27,  1.70s/it]"
     ]
    },
    {
     "name": "stdout",
     "output_type": "stream",
     "text": [
      "✅ 006_S_6727 processed successfully in MCI\n"
     ]
    },
    {
     "name": "stderr",
     "output_type": "stream",
     "text": [
      "Processing MCI:  15%|█████████▋                                                       | 15/101 [00:26<02:19,  1.62s/it]"
     ]
    },
    {
     "name": "stdout",
     "output_type": "stream",
     "text": [
      "✅ 007_S_2394 processed successfully in MCI\n"
     ]
    },
    {
     "name": "stderr",
     "output_type": "stream",
     "text": [
      "Processing MCI:  16%|██████████▎                                                      | 16/101 [00:28<02:19,  1.64s/it]"
     ]
    },
    {
     "name": "stdout",
     "output_type": "stream",
     "text": [
      "✅ 007_S_4272 processed successfully in MCI\n"
     ]
    },
    {
     "name": "stderr",
     "output_type": "stream",
     "text": [
      "Processing MCI:  17%|██████████▉                                                      | 17/101 [00:29<02:19,  1.66s/it]"
     ]
    },
    {
     "name": "stdout",
     "output_type": "stream",
     "text": [
      "✅ 010_S_6748 processed successfully in MCI\n"
     ]
    },
    {
     "name": "stderr",
     "output_type": "stream",
     "text": [
      "Processing MCI:  18%|███████████▌                                                     | 18/101 [00:31<02:17,  1.65s/it]"
     ]
    },
    {
     "name": "stdout",
     "output_type": "stream",
     "text": [
      "✅ 011_S_6618 processed successfully in MCI\n"
     ]
    },
    {
     "name": "stderr",
     "output_type": "stream",
     "text": [
      "Processing MCI:  19%|████████████▏                                                    | 19/101 [00:33<02:26,  1.79s/it]"
     ]
    },
    {
     "name": "stdout",
     "output_type": "stream",
     "text": [
      "✅ 012_S_6073 processed successfully in MCI\n"
     ]
    },
    {
     "name": "stderr",
     "output_type": "stream",
     "text": [
      "Processing MCI:  20%|████████████▊                                                    | 20/101 [00:35<02:32,  1.88s/it]"
     ]
    },
    {
     "name": "stdout",
     "output_type": "stream",
     "text": [
      "✅ 012_S_6503 processed successfully in MCI\n"
     ]
    },
    {
     "name": "stderr",
     "output_type": "stream",
     "text": [
      "Processing MCI:  21%|█████████████▌                                                   | 21/101 [00:37<02:32,  1.90s/it]"
     ]
    },
    {
     "name": "stdout",
     "output_type": "stream",
     "text": [
      "✅ 012_S_6760 processed successfully in MCI\n"
     ]
    },
    {
     "name": "stderr",
     "output_type": "stream",
     "text": [
      "Processing MCI:  22%|██████████████▏                                                  | 22/101 [00:39<02:32,  1.93s/it]"
     ]
    },
    {
     "name": "stdout",
     "output_type": "stream",
     "text": [
      "✅ 013_S_6206 processed successfully in MCI\n"
     ]
    },
    {
     "name": "stderr",
     "output_type": "stream",
     "text": [
      "Processing MCI:  23%|██████████████▊                                                  | 23/101 [00:41<02:25,  1.87s/it]"
     ]
    },
    {
     "name": "stdout",
     "output_type": "stream",
     "text": [
      "✅ 013_S_6725 processed successfully in MCI\n"
     ]
    },
    {
     "name": "stderr",
     "output_type": "stream",
     "text": [
      "Processing MCI:  24%|███████████████▍                                                 | 24/101 [00:43<02:28,  1.93s/it]"
     ]
    },
    {
     "name": "stdout",
     "output_type": "stream",
     "text": [
      "✅ 013_S_6970 processed successfully in MCI\n"
     ]
    },
    {
     "name": "stderr",
     "output_type": "stream",
     "text": [
      "Processing MCI:  25%|████████████████                                                 | 25/101 [00:44<02:11,  1.73s/it]"
     ]
    },
    {
     "name": "stdout",
     "output_type": "stream",
     "text": [
      "✅ 013_S_7097 processed successfully in MCI\n"
     ]
    },
    {
     "name": "stderr",
     "output_type": "stream",
     "text": [
      "Processing MCI:  26%|████████████████▋                                                | 26/101 [00:46<02:05,  1.67s/it]"
     ]
    },
    {
     "name": "stdout",
     "output_type": "stream",
     "text": [
      "✅ 014_S_6087 processed successfully in MCI\n"
     ]
    },
    {
     "name": "stderr",
     "output_type": "stream",
     "text": [
      "Processing MCI:  27%|█████████████████▍                                               | 27/101 [00:47<01:59,  1.62s/it]"
     ]
    },
    {
     "name": "stdout",
     "output_type": "stream",
     "text": [
      "✅ 014_S_6765 processed successfully in MCI\n"
     ]
    },
    {
     "name": "stderr",
     "output_type": "stream",
     "text": [
      "Processing MCI:  28%|██████████████████                                               | 28/101 [00:49<02:02,  1.67s/it]"
     ]
    },
    {
     "name": "stdout",
     "output_type": "stream",
     "text": [
      "✅ 014_S_6944 processed successfully in MCI\n"
     ]
    },
    {
     "name": "stderr",
     "output_type": "stream",
     "text": [
      "Processing MCI:  29%|██████████████████▋                                              | 29/101 [00:51<02:04,  1.73s/it]"
     ]
    },
    {
     "name": "stdout",
     "output_type": "stream",
     "text": [
      "✅ 016_S_6771 processed successfully in MCI\n"
     ]
    },
    {
     "name": "stderr",
     "output_type": "stream",
     "text": [
      "Processing MCI:  30%|███████████████████▎                                             | 30/101 [00:53<02:09,  1.83s/it]"
     ]
    },
    {
     "name": "stdout",
     "output_type": "stream",
     "text": [
      "✅ 016_S_6789 processed successfully in MCI\n"
     ]
    },
    {
     "name": "stderr",
     "output_type": "stream",
     "text": [
      "Processing MCI:  31%|███████████████████▉                                             | 31/101 [00:55<02:08,  1.83s/it]"
     ]
    },
    {
     "name": "stdout",
     "output_type": "stream",
     "text": [
      "✅ 016_S_6800 processed successfully in MCI\n"
     ]
    },
    {
     "name": "stderr",
     "output_type": "stream",
     "text": [
      "Processing MCI:  32%|████████████████████▌                                            | 32/101 [00:56<02:04,  1.80s/it]"
     ]
    },
    {
     "name": "stdout",
     "output_type": "stream",
     "text": [
      "✅ 016_S_6809 processed successfully in MCI\n"
     ]
    },
    {
     "name": "stderr",
     "output_type": "stream",
     "text": [
      "Processing MCI:  33%|█████████████████████▏                                           | 33/101 [00:58<02:00,  1.77s/it]"
     ]
    },
    {
     "name": "stdout",
     "output_type": "stream",
     "text": [
      "✅ 016_S_6816 processed successfully in MCI\n"
     ]
    },
    {
     "name": "stderr",
     "output_type": "stream",
     "text": [
      "Processing MCI:  34%|█████████████████████▉                                           | 34/101 [01:00<01:53,  1.69s/it]"
     ]
    },
    {
     "name": "stdout",
     "output_type": "stream",
     "text": [
      "✅ 016_S_6836 processed successfully in MCI\n"
     ]
    },
    {
     "name": "stderr",
     "output_type": "stream",
     "text": [
      "Processing MCI:  35%|██████████████████████▌                                          | 35/101 [01:01<01:54,  1.73s/it]"
     ]
    },
    {
     "name": "stdout",
     "output_type": "stream",
     "text": [
      "✅ 016_S_6904 processed successfully in MCI\n"
     ]
    },
    {
     "name": "stderr",
     "output_type": "stream",
     "text": [
      "Processing MCI:  36%|███████████████████████▏                                         | 36/101 [01:03<01:52,  1.72s/it]"
     ]
    },
    {
     "name": "stdout",
     "output_type": "stream",
     "text": [
      "✅ 016_S_6926 processed successfully in MCI\n"
     ]
    },
    {
     "name": "stderr",
     "output_type": "stream",
     "text": [
      "Processing MCI:  37%|███████████████████████▊                                         | 37/101 [01:05<01:48,  1.70s/it]"
     ]
    },
    {
     "name": "stdout",
     "output_type": "stream",
     "text": [
      "✅ 016_S_6949 processed successfully in MCI\n"
     ]
    },
    {
     "name": "stderr",
     "output_type": "stream",
     "text": [
      "Processing MCI:  38%|████████████████████████▍                                        | 38/101 [01:07<01:51,  1.76s/it]"
     ]
    },
    {
     "name": "stdout",
     "output_type": "stream",
     "text": [
      "✅ 016_S_7002 processed successfully in MCI\n"
     ]
    },
    {
     "name": "stderr",
     "output_type": "stream",
     "text": [
      "Processing MCI:  39%|█████████████████████████                                        | 39/101 [01:09<01:55,  1.87s/it]"
     ]
    },
    {
     "name": "stdout",
     "output_type": "stream",
     "text": [
      "✅ 016_S_7014 processed successfully in MCI\n"
     ]
    },
    {
     "name": "stderr",
     "output_type": "stream",
     "text": [
      "Processing MCI:  40%|█████████████████████████▋                                       | 40/101 [01:11<01:58,  1.94s/it]"
     ]
    },
    {
     "name": "stdout",
     "output_type": "stream",
     "text": [
      "✅ 018_S_6414 processed successfully in MCI\n"
     ]
    },
    {
     "name": "stderr",
     "output_type": "stream",
     "text": [
      "Processing MCI:  41%|██████████████████████████▍                                      | 41/101 [01:13<01:57,  1.96s/it]"
     ]
    },
    {
     "name": "stdout",
     "output_type": "stream",
     "text": [
      "✅ 021_S_0178 processed successfully in MCI\n"
     ]
    },
    {
     "name": "stderr",
     "output_type": "stream",
     "text": [
      "Processing MCI:  42%|███████████████████████████                                      | 42/101 [01:15<01:49,  1.86s/it]"
     ]
    },
    {
     "name": "stdout",
     "output_type": "stream",
     "text": [
      "✅ 021_S_0626 processed successfully in MCI\n"
     ]
    },
    {
     "name": "stderr",
     "output_type": "stream",
     "text": [
      "Processing MCI:  43%|███████████████████████████▋                                     | 43/101 [01:16<01:38,  1.70s/it]"
     ]
    },
    {
     "name": "stdout",
     "output_type": "stream",
     "text": [
      "✅ 098_S_6155 processed successfully in MCI\n"
     ]
    },
    {
     "name": "stderr",
     "output_type": "stream",
     "text": [
      "Processing MCI:  44%|████████████████████████████▎                                    | 44/101 [01:18<01:37,  1.71s/it]"
     ]
    },
    {
     "name": "stdout",
     "output_type": "stream",
     "text": [
      "✅ 126_S_4514 processed successfully in MCI\n"
     ]
    },
    {
     "name": "stderr",
     "output_type": "stream",
     "text": [
      "Processing MCI:  45%|████████████████████████████▉                                    | 45/101 [01:19<01:37,  1.75s/it]"
     ]
    },
    {
     "name": "stdout",
     "output_type": "stream",
     "text": [
      "✅ 126_S_6724 processed successfully in MCI\n"
     ]
    },
    {
     "name": "stderr",
     "output_type": "stream",
     "text": [
      "Processing MCI:  46%|█████████████████████████████▌                                   | 46/101 [01:21<01:41,  1.85s/it]"
     ]
    },
    {
     "name": "stdout",
     "output_type": "stream",
     "text": [
      "✅ 126_S_7015 processed successfully in MCI\n"
     ]
    },
    {
     "name": "stderr",
     "output_type": "stream",
     "text": [
      "Processing MCI:  47%|██████████████████████████████▏                                  | 47/101 [01:23<01:41,  1.87s/it]"
     ]
    },
    {
     "name": "stdout",
     "output_type": "stream",
     "text": [
      "✅ 126_S_7060 processed successfully in MCI\n"
     ]
    },
    {
     "name": "stderr",
     "output_type": "stream",
     "text": [
      "Processing MCI:  48%|██████████████████████████████▉                                  | 48/101 [01:25<01:40,  1.89s/it]"
     ]
    },
    {
     "name": "stdout",
     "output_type": "stream",
     "text": [
      "✅ 126_S_7083 processed successfully in MCI\n"
     ]
    },
    {
     "name": "stderr",
     "output_type": "stream",
     "text": [
      "Processing MCI:  49%|███████████████████████████████▌                                 | 49/101 [01:27<01:38,  1.89s/it]"
     ]
    },
    {
     "name": "stdout",
     "output_type": "stream",
     "text": [
      "✅ 127_S_1427 processed successfully in MCI\n"
     ]
    },
    {
     "name": "stderr",
     "output_type": "stream",
     "text": [
      "Processing MCI:  50%|████████████████████████████████▏                                | 50/101 [01:29<01:37,  1.91s/it]"
     ]
    },
    {
     "name": "stdout",
     "output_type": "stream",
     "text": [
      "✅ 127_S_6512 processed successfully in MCI\n"
     ]
    },
    {
     "name": "stderr",
     "output_type": "stream",
     "text": [
      "Processing MCI:  50%|████████████████████████████████▊                                | 51/101 [01:31<01:37,  1.94s/it]"
     ]
    },
    {
     "name": "stdout",
     "output_type": "stream",
     "text": [
      "✅ 128_S_0200 processed successfully in MCI\n"
     ]
    },
    {
     "name": "stderr",
     "output_type": "stream",
     "text": [
      "Processing MCI:  51%|█████████████████████████████████▍                               | 52/101 [01:33<01:36,  1.97s/it]"
     ]
    },
    {
     "name": "stdout",
     "output_type": "stream",
     "text": [
      "✅ 129_S_6830 processed successfully in MCI\n"
     ]
    },
    {
     "name": "stderr",
     "output_type": "stream",
     "text": [
      "Processing MCI:  52%|██████████████████████████████████                               | 53/101 [01:35<01:36,  2.01s/it]"
     ]
    },
    {
     "name": "stdout",
     "output_type": "stream",
     "text": [
      "✅ 129_S_6848 processed successfully in MCI\n"
     ]
    },
    {
     "name": "stderr",
     "output_type": "stream",
     "text": [
      "Processing MCI:  53%|██████████████████████████████████▊                              | 54/101 [01:37<01:32,  1.98s/it]"
     ]
    },
    {
     "name": "stdout",
     "output_type": "stream",
     "text": [
      "✅ 129_S_6852 processed successfully in MCI\n"
     ]
    },
    {
     "name": "stderr",
     "output_type": "stream",
     "text": [
      "Processing MCI:  54%|███████████████████████████████████▍                             | 55/101 [01:39<01:30,  1.97s/it]"
     ]
    },
    {
     "name": "stdout",
     "output_type": "stream",
     "text": [
      "✅ 130_S_6329 processed successfully in MCI\n"
     ]
    },
    {
     "name": "stderr",
     "output_type": "stream",
     "text": [
      "Processing MCI:  55%|████████████████████████████████████                             | 56/101 [01:41<01:27,  1.95s/it]"
     ]
    },
    {
     "name": "stdout",
     "output_type": "stream",
     "text": [
      "✅ 130_S_6604 processed successfully in MCI\n"
     ]
    },
    {
     "name": "stderr",
     "output_type": "stream",
     "text": [
      "Processing MCI:  56%|████████████████████████████████████▋                            | 57/101 [01:43<01:25,  1.94s/it]"
     ]
    },
    {
     "name": "stdout",
     "output_type": "stream",
     "text": [
      "✅ 130_S_6611 processed successfully in MCI\n"
     ]
    },
    {
     "name": "stderr",
     "output_type": "stream",
     "text": [
      "Processing MCI:  57%|█████████████████████████████████████▎                           | 58/101 [01:44<01:14,  1.73s/it]"
     ]
    },
    {
     "name": "stdout",
     "output_type": "stream",
     "text": [
      "✅ 130_S_6612 processed successfully in MCI\n"
     ]
    },
    {
     "name": "stderr",
     "output_type": "stream",
     "text": [
      "Processing MCI:  58%|█████████████████████████████████████▉                           | 59/101 [01:46<01:07,  1.60s/it]"
     ]
    },
    {
     "name": "stdout",
     "output_type": "stream",
     "text": [
      "✅ 130_S_6639 processed successfully in MCI\n"
     ]
    },
    {
     "name": "stderr",
     "output_type": "stream",
     "text": [
      "Processing MCI:  59%|██████████████████████████████████████▌                          | 60/101 [01:47<01:06,  1.62s/it]"
     ]
    },
    {
     "name": "stdout",
     "output_type": "stream",
     "text": [
      "✅ 130_S_6646 processed successfully in MCI\n"
     ]
    },
    {
     "name": "stderr",
     "output_type": "stream",
     "text": [
      "Processing MCI:  60%|███████████████████████████████████████▎                         | 61/101 [01:49<01:08,  1.71s/it]"
     ]
    },
    {
     "name": "stdout",
     "output_type": "stream",
     "text": [
      "✅ 130_S_6647 processed successfully in MCI\n"
     ]
    },
    {
     "name": "stderr",
     "output_type": "stream",
     "text": [
      "Processing MCI:  61%|███████████████████████████████████████▉                         | 62/101 [01:51<01:10,  1.82s/it]"
     ]
    },
    {
     "name": "stdout",
     "output_type": "stream",
     "text": [
      "✅ 130_S_6688 processed successfully in MCI\n"
     ]
    },
    {
     "name": "stderr",
     "output_type": "stream",
     "text": [
      "Processing MCI:  62%|████████████████████████████████████████▌                        | 63/101 [01:53<01:11,  1.89s/it]"
     ]
    },
    {
     "name": "stdout",
     "output_type": "stream",
     "text": [
      "✅ 130_S_6823 processed successfully in MCI\n"
     ]
    },
    {
     "name": "stderr",
     "output_type": "stream",
     "text": [
      "Processing MCI:  63%|█████████████████████████████████████████▏                       | 64/101 [01:55<01:10,  1.91s/it]"
     ]
    },
    {
     "name": "stdout",
     "output_type": "stream",
     "text": [
      "✅ 131_S_0384 processed successfully in MCI\n"
     ]
    },
    {
     "name": "stderr",
     "output_type": "stream",
     "text": [
      "Processing MCI:  64%|█████████████████████████████████████████▊                       | 65/101 [01:57<01:07,  1.88s/it]"
     ]
    },
    {
     "name": "stdout",
     "output_type": "stream",
     "text": [
      "✅ 131_S_6143 processed successfully in MCI\n"
     ]
    },
    {
     "name": "stderr",
     "output_type": "stream",
     "text": [
      "Processing MCI:  65%|██████████████████████████████████████████▍                      | 66/101 [01:59<01:06,  1.89s/it]"
     ]
    },
    {
     "name": "stdout",
     "output_type": "stream",
     "text": [
      "✅ 131_S_6616 processed successfully in MCI\n"
     ]
    },
    {
     "name": "stderr",
     "output_type": "stream",
     "text": [
      "Processing MCI:  66%|███████████████████████████████████████████                      | 67/101 [02:01<01:04,  1.90s/it]"
     ]
    },
    {
     "name": "stdout",
     "output_type": "stream",
     "text": [
      "✅ 131_S_6805 processed successfully in MCI\n"
     ]
    },
    {
     "name": "stderr",
     "output_type": "stream",
     "text": [
      "Processing MCI:  67%|███████████████████████████████████████████▊                     | 68/101 [02:03<01:02,  1.90s/it]"
     ]
    },
    {
     "name": "stdout",
     "output_type": "stream",
     "text": [
      "✅ 131_S_7032 processed successfully in MCI\n"
     ]
    },
    {
     "name": "stderr",
     "output_type": "stream",
     "text": [
      "Processing MCI:  68%|████████████████████████████████████████████▍                    | 69/101 [02:05<01:00,  1.89s/it]"
     ]
    },
    {
     "name": "stdout",
     "output_type": "stream",
     "text": [
      "✅ 135_S_4489 processed successfully in MCI\n"
     ]
    },
    {
     "name": "stderr",
     "output_type": "stream",
     "text": [
      "Processing MCI:  69%|█████████████████████████████████████████████                    | 70/101 [02:07<00:58,  1.89s/it]"
     ]
    },
    {
     "name": "stdout",
     "output_type": "stream",
     "text": [
      "✅ 135_S_4722 processed successfully in MCI\n"
     ]
    },
    {
     "name": "stderr",
     "output_type": "stream",
     "text": [
      "Processing MCI:  70%|█████████████████████████████████████████████▋                   | 71/101 [02:08<00:55,  1.84s/it]"
     ]
    },
    {
     "name": "stdout",
     "output_type": "stream",
     "text": [
      "✅ 135_S_4723 processed successfully in MCI\n"
     ]
    },
    {
     "name": "stderr",
     "output_type": "stream",
     "text": [
      "Processing MCI:  71%|██████████████████████████████████████████████▎                  | 72/101 [02:10<00:54,  1.87s/it]"
     ]
    },
    {
     "name": "stdout",
     "output_type": "stream",
     "text": [
      "✅ 135_S_6110 processed successfully in MCI\n"
     ]
    },
    {
     "name": "stderr",
     "output_type": "stream",
     "text": [
      "Processing MCI:  72%|██████████████████████████████████████████████▉                  | 73/101 [02:12<00:51,  1.83s/it]"
     ]
    },
    {
     "name": "stdout",
     "output_type": "stream",
     "text": [
      "✅ 135_S_6446 processed successfully in MCI\n"
     ]
    },
    {
     "name": "stderr",
     "output_type": "stream",
     "text": [
      "Processing MCI:  73%|███████████████████████████████████████████████▌                 | 74/101 [02:14<00:48,  1.81s/it]"
     ]
    },
    {
     "name": "stdout",
     "output_type": "stream",
     "text": [
      "✅ 135_S_6544 processed successfully in MCI\n"
     ]
    },
    {
     "name": "stderr",
     "output_type": "stream",
     "text": [
      "Processing MCI:  74%|████████████████████████████████████████████████▎                | 75/101 [02:15<00:43,  1.66s/it]"
     ]
    },
    {
     "name": "stdout",
     "output_type": "stream",
     "text": [
      "✅ 135_S_6586 processed successfully in MCI\n"
     ]
    },
    {
     "name": "stderr",
     "output_type": "stream",
     "text": [
      "Processing MCI:  75%|████████████████████████████████████████████████▉                | 76/101 [02:16<00:38,  1.55s/it]"
     ]
    },
    {
     "name": "stdout",
     "output_type": "stream",
     "text": [
      "✅ 135_S_6622 processed successfully in MCI\n"
     ]
    },
    {
     "name": "stderr",
     "output_type": "stream",
     "text": [
      "Processing MCI:  76%|█████████████████████████████████████████████████▌               | 77/101 [02:18<00:39,  1.63s/it]"
     ]
    },
    {
     "name": "stdout",
     "output_type": "stream",
     "text": [
      "✅ 135_S_6703 processed successfully in MCI\n"
     ]
    },
    {
     "name": "stderr",
     "output_type": "stream",
     "text": [
      "Processing MCI:  77%|██████████████████████████████████████████████████▏              | 78/101 [02:20<00:38,  1.69s/it]"
     ]
    },
    {
     "name": "stdout",
     "output_type": "stream",
     "text": [
      "✅ 137_S_4351 processed successfully in MCI\n"
     ]
    },
    {
     "name": "stderr",
     "output_type": "stream",
     "text": [
      "Processing MCI:  78%|██████████████████████████████████████████████████▊              | 79/101 [02:22<00:39,  1.80s/it]"
     ]
    },
    {
     "name": "stdout",
     "output_type": "stream",
     "text": [
      "✅ 137_S_6654 processed successfully in MCI\n"
     ]
    },
    {
     "name": "stderr",
     "output_type": "stream",
     "text": [
      "Processing MCI:  79%|███████████████████████████████████████████████████▍             | 80/101 [02:24<00:37,  1.77s/it]"
     ]
    },
    {
     "name": "stdout",
     "output_type": "stream",
     "text": [
      "✅ 137_S_6659 processed successfully in MCI\n"
     ]
    },
    {
     "name": "stderr",
     "output_type": "stream",
     "text": [
      "Processing MCI:  80%|████████████████████████████████████████████████████▏            | 81/101 [02:26<00:36,  1.80s/it]"
     ]
    },
    {
     "name": "stdout",
     "output_type": "stream",
     "text": [
      "✅ 137_S_6685 processed successfully in MCI\n"
     ]
    },
    {
     "name": "stderr",
     "output_type": "stream",
     "text": [
      "Processing MCI:  81%|████████████████████████████████████████████████████▊            | 82/101 [02:28<00:35,  1.85s/it]"
     ]
    },
    {
     "name": "stdout",
     "output_type": "stream",
     "text": [
      "✅ 137_S_6693 processed successfully in MCI\n"
     ]
    },
    {
     "name": "stderr",
     "output_type": "stream",
     "text": [
      "Processing MCI:  82%|█████████████████████████████████████████████████████▍           | 83/101 [02:29<00:33,  1.83s/it]"
     ]
    },
    {
     "name": "stdout",
     "output_type": "stream",
     "text": [
      "✅ 137_S_6880 processed successfully in MCI\n"
     ]
    },
    {
     "name": "stderr",
     "output_type": "stream",
     "text": [
      "Processing MCI:  83%|██████████████████████████████████████████████████████           | 84/101 [02:31<00:31,  1.85s/it]"
     ]
    },
    {
     "name": "stdout",
     "output_type": "stream",
     "text": [
      "✅ 137_S_6883 processed successfully in MCI\n"
     ]
    },
    {
     "name": "stderr",
     "output_type": "stream",
     "text": [
      "Processing MCI:  84%|██████████████████████████████████████████████████████▋          | 85/101 [02:33<00:29,  1.86s/it]"
     ]
    },
    {
     "name": "stdout",
     "output_type": "stream",
     "text": [
      "✅ 137_S_6903 processed successfully in MCI\n"
     ]
    },
    {
     "name": "stderr",
     "output_type": "stream",
     "text": [
      "Processing MCI:  85%|███████████████████████████████████████████████████████▎         | 86/101 [02:35<00:28,  1.88s/it]"
     ]
    },
    {
     "name": "stdout",
     "output_type": "stream",
     "text": [
      "✅ 137_S_6919 processed successfully in MCI\n"
     ]
    },
    {
     "name": "stderr",
     "output_type": "stream",
     "text": [
      "Processing MCI:  86%|███████████████████████████████████████████████████████▉         | 87/101 [02:37<00:26,  1.88s/it]"
     ]
    },
    {
     "name": "stdout",
     "output_type": "stream",
     "text": [
      "✅ 141_S_1052 processed successfully in MCI\n"
     ]
    },
    {
     "name": "stderr",
     "output_type": "stream",
     "text": [
      "Processing MCI:  87%|████████████████████████████████████████████████████████▋        | 88/101 [02:38<00:22,  1.76s/it]"
     ]
    },
    {
     "name": "stdout",
     "output_type": "stream",
     "text": [
      "✅ 141_S_1378 processed successfully in MCI\n"
     ]
    },
    {
     "name": "stderr",
     "output_type": "stream",
     "text": [
      "Processing MCI:  88%|█████████████████████████████████████████████████████████▎       | 89/101 [02:40<00:22,  1.84s/it]"
     ]
    },
    {
     "name": "stdout",
     "output_type": "stream",
     "text": [
      "✅ 141_S_6041 processed successfully in MCI\n"
     ]
    },
    {
     "name": "stderr",
     "output_type": "stream",
     "text": [
      "Processing MCI:  89%|█████████████████████████████████████████████████████████▉       | 90/101 [02:43<00:21,  1.93s/it]"
     ]
    },
    {
     "name": "stdout",
     "output_type": "stream",
     "text": [
      "✅ 141_S_6075 processed successfully in MCI\n"
     ]
    },
    {
     "name": "stderr",
     "output_type": "stream",
     "text": [
      "Processing MCI:  90%|██████████████████████████████████████████████████████████▌      | 91/101 [02:44<00:18,  1.84s/it]"
     ]
    },
    {
     "name": "stdout",
     "output_type": "stream",
     "text": [
      "✅ 141_S_6779 processed successfully in MCI\n"
     ]
    },
    {
     "name": "stderr",
     "output_type": "stream",
     "text": [
      "Processing MCI:  91%|███████████████████████████████████████████████████████████▏     | 92/101 [02:46<00:15,  1.77s/it]"
     ]
    },
    {
     "name": "stdout",
     "output_type": "stream",
     "text": [
      "✅ 141_S_6787 processed successfully in MCI\n"
     ]
    },
    {
     "name": "stderr",
     "output_type": "stream",
     "text": [
      "Processing MCI:  92%|███████████████████████████████████████████████████████████▊     | 93/101 [02:47<00:13,  1.64s/it]"
     ]
    },
    {
     "name": "stdout",
     "output_type": "stream",
     "text": [
      "✅ 141_S_6964 processed successfully in MCI\n"
     ]
    },
    {
     "name": "stderr",
     "output_type": "stream",
     "text": [
      "Processing MCI:  93%|████████████████████████████████████████████████████████████▍    | 94/101 [02:49<00:12,  1.77s/it]"
     ]
    },
    {
     "name": "stdout",
     "output_type": "stream",
     "text": [
      "✅ 141_S_7013 processed successfully in MCI\n"
     ]
    },
    {
     "name": "stderr",
     "output_type": "stream",
     "text": [
      "Processing MCI:  94%|█████████████████████████████████████████████████████████████▏   | 95/101 [02:51<00:10,  1.77s/it]"
     ]
    },
    {
     "name": "stdout",
     "output_type": "stream",
     "text": [
      "✅ 153_S_6679 processed successfully in MCI\n"
     ]
    },
    {
     "name": "stderr",
     "output_type": "stream",
     "text": [
      "Processing MCI:  95%|█████████████████████████████████████████████████████████████▊   | 96/101 [02:53<00:08,  1.76s/it]"
     ]
    },
    {
     "name": "stdout",
     "output_type": "stream",
     "text": [
      "✅ 153_S_6755 processed successfully in MCI\n"
     ]
    },
    {
     "name": "stderr",
     "output_type": "stream",
     "text": [
      "Processing MCI:  96%|██████████████████████████████████████████████████████████████▍  | 97/101 [02:55<00:07,  1.79s/it]"
     ]
    },
    {
     "name": "stdout",
     "output_type": "stream",
     "text": [
      "✅ 168_S_6180 processed successfully in MCI\n"
     ]
    },
    {
     "name": "stderr",
     "output_type": "stream",
     "text": [
      "Processing MCI:  97%|███████████████████████████████████████████████████████████████  | 98/101 [02:57<00:05,  1.85s/it]"
     ]
    },
    {
     "name": "stdout",
     "output_type": "stream",
     "text": [
      "✅ 168_S_6426 processed successfully in MCI\n"
     ]
    },
    {
     "name": "stderr",
     "output_type": "stream",
     "text": [
      "Processing MCI:  98%|███████████████████████████████████████████████████████████████▋ | 99/101 [02:59<00:03,  1.89s/it]"
     ]
    },
    {
     "name": "stdout",
     "output_type": "stream",
     "text": [
      "✅ 168_S_6467 processed successfully in MCI\n"
     ]
    },
    {
     "name": "stderr",
     "output_type": "stream",
     "text": [
      "Processing MCI:  99%|███████████████████████████████████████████████████████████████▎| 100/101 [03:01<00:01,  1.93s/it]"
     ]
    },
    {
     "name": "stdout",
     "output_type": "stream",
     "text": [
      "✅ 168_S_6541 processed successfully in MCI\n"
     ]
    },
    {
     "name": "stderr",
     "output_type": "stream",
     "text": [
      "Processing MCI: 100%|████████████████████████████████████████████████████████████████| 101/101 [03:02<00:00,  1.81s/it]\n"
     ]
    },
    {
     "name": "stdout",
     "output_type": "stream",
     "text": [
      "✅ 168_S_6591 processed successfully in MCI\n"
     ]
    },
    {
     "name": "stderr",
     "output_type": "stream",
     "text": [
      "Processing NC:   1%|▋                                                                  | 1/101 [00:02<03:20,  2.00s/it]"
     ]
    },
    {
     "name": "stdout",
     "output_type": "stream",
     "text": [
      "✅ 020_S_6185 processed successfully in NC\n"
     ]
    },
    {
     "name": "stderr",
     "output_type": "stream",
     "text": [
      "Processing NC:   2%|█▎                                                                 | 2/101 [00:03<03:16,  1.99s/it]"
     ]
    },
    {
     "name": "stdout",
     "output_type": "stream",
     "text": [
      "✅ 020_S_6282 processed successfully in NC\n"
     ]
    },
    {
     "name": "stderr",
     "output_type": "stream",
     "text": [
      "Processing NC:   3%|█▉                                                                 | 3/101 [00:05<03:03,  1.88s/it]"
     ]
    },
    {
     "name": "stdout",
     "output_type": "stream",
     "text": [
      "✅ 021_S_4276 processed successfully in NC\n"
     ]
    },
    {
     "name": "stderr",
     "output_type": "stream",
     "text": [
      "Processing NC:   4%|██▋                                                                | 4/101 [00:07<02:59,  1.85s/it]"
     ]
    },
    {
     "name": "stdout",
     "output_type": "stream",
     "text": [
      "✅ 021_S_4335 processed successfully in NC\n"
     ]
    },
    {
     "name": "stderr",
     "output_type": "stream",
     "text": [
      "Processing NC:   5%|███▎                                                               | 5/101 [00:09<02:55,  1.82s/it]"
     ]
    },
    {
     "name": "stdout",
     "output_type": "stream",
     "text": [
      "✅ 021_S_4558 processed successfully in NC\n"
     ]
    },
    {
     "name": "stderr",
     "output_type": "stream",
     "text": [
      "Processing NC:   6%|███▉                                                               | 6/101 [00:11<02:52,  1.81s/it]"
     ]
    },
    {
     "name": "stdout",
     "output_type": "stream",
     "text": [
      "✅ 021_S_6312 processed successfully in NC\n"
     ]
    },
    {
     "name": "stderr",
     "output_type": "stream",
     "text": [
      "Processing NC:   7%|████▋                                                              | 7/101 [00:12<02:38,  1.68s/it]"
     ]
    },
    {
     "name": "stdout",
     "output_type": "stream",
     "text": [
      "✅ 023_S_1190 processed successfully in NC\n"
     ]
    },
    {
     "name": "stderr",
     "output_type": "stream",
     "text": [
      "Processing NC:   8%|█████▎                                                             | 8/101 [00:14<02:41,  1.74s/it]"
     ]
    },
    {
     "name": "stdout",
     "output_type": "stream",
     "text": [
      "✅ 024_S_4084 processed successfully in NC\n"
     ]
    },
    {
     "name": "stderr",
     "output_type": "stream",
     "text": [
      "Processing NC:   9%|█████▉                                                             | 9/101 [00:16<02:41,  1.76s/it]"
     ]
    },
    {
     "name": "stdout",
     "output_type": "stream",
     "text": [
      "✅ 027_S_0120 processed successfully in NC\n"
     ]
    },
    {
     "name": "stderr",
     "output_type": "stream",
     "text": [
      "Processing NC:  10%|██████▌                                                           | 10/101 [00:18<02:43,  1.79s/it]"
     ]
    },
    {
     "name": "stdout",
     "output_type": "stream",
     "text": [
      "✅ 027_S_5093 processed successfully in NC\n"
     ]
    },
    {
     "name": "stderr",
     "output_type": "stream",
     "text": [
      "Processing NC:  11%|███████▏                                                          | 11/101 [00:19<02:42,  1.81s/it]"
     ]
    },
    {
     "name": "stdout",
     "output_type": "stream",
     "text": [
      "✅ 029_S_4290 processed successfully in NC\n"
     ]
    },
    {
     "name": "stderr",
     "output_type": "stream",
     "text": [
      "Processing NC:  12%|███████▊                                                          | 12/101 [00:21<02:46,  1.87s/it]"
     ]
    },
    {
     "name": "stdout",
     "output_type": "stream",
     "text": [
      "✅ 029_S_4385 processed successfully in NC\n"
     ]
    },
    {
     "name": "stderr",
     "output_type": "stream",
     "text": [
      "Processing NC:  13%|████████▍                                                         | 13/101 [00:23<02:41,  1.84s/it]"
     ]
    },
    {
     "name": "stdout",
     "output_type": "stream",
     "text": [
      "✅ 029_S_4652 processed successfully in NC\n"
     ]
    },
    {
     "name": "stderr",
     "output_type": "stream",
     "text": [
      "Processing NC:  14%|█████████▏                                                        | 14/101 [00:25<02:39,  1.83s/it]"
     ]
    },
    {
     "name": "stdout",
     "output_type": "stream",
     "text": [
      "✅ 032_S_0677 processed successfully in NC\n"
     ]
    },
    {
     "name": "stderr",
     "output_type": "stream",
     "text": [
      "Processing NC:  15%|█████████▊                                                        | 15/101 [00:27<02:37,  1.84s/it]"
     ]
    },
    {
     "name": "stdout",
     "output_type": "stream",
     "text": [
      "✅ 032_S_4277 processed successfully in NC\n"
     ]
    },
    {
     "name": "stderr",
     "output_type": "stream",
     "text": [
      "Processing NC:  16%|██████████▍                                                       | 16/101 [00:29<02:43,  1.93s/it]"
     ]
    },
    {
     "name": "stdout",
     "output_type": "stream",
     "text": [
      "✅ 032_S_6211 processed successfully in NC\n"
     ]
    },
    {
     "name": "stderr",
     "output_type": "stream",
     "text": [
      "Processing NC:  17%|███████████                                                       | 17/101 [00:31<02:37,  1.88s/it]"
     ]
    },
    {
     "name": "stdout",
     "output_type": "stream",
     "text": [
      "✅ 032_S_6279 processed successfully in NC\n"
     ]
    },
    {
     "name": "stderr",
     "output_type": "stream",
     "text": [
      "Processing NC:  18%|███████████▊                                                      | 18/101 [00:33<02:36,  1.89s/it]"
     ]
    },
    {
     "name": "stdout",
     "output_type": "stream",
     "text": [
      "✅ 033_S_1016 processed successfully in NC\n"
     ]
    },
    {
     "name": "stderr",
     "output_type": "stream",
     "text": [
      "Processing NC:  19%|████████████▍                                                     | 19/101 [00:34<02:30,  1.84s/it]"
     ]
    },
    {
     "name": "stdout",
     "output_type": "stream",
     "text": [
      "✅ 033_S_1098 processed successfully in NC\n"
     ]
    },
    {
     "name": "stderr",
     "output_type": "stream",
     "text": [
      "Processing NC:  20%|█████████████                                                     | 20/101 [00:36<02:34,  1.91s/it]"
     ]
    },
    {
     "name": "stdout",
     "output_type": "stream",
     "text": [
      "✅ 033_S_4176 processed successfully in NC\n"
     ]
    },
    {
     "name": "stderr",
     "output_type": "stream",
     "text": [
      "Processing NC:  21%|█████████████▋                                                    | 21/101 [00:39<02:36,  1.96s/it]"
     ]
    },
    {
     "name": "stdout",
     "output_type": "stream",
     "text": [
      "✅ 033_S_4177 processed successfully in NC\n"
     ]
    },
    {
     "name": "stderr",
     "output_type": "stream",
     "text": [
      "Processing NC:  22%|██████████████▍                                                   | 22/101 [00:40<02:31,  1.92s/it]"
     ]
    },
    {
     "name": "stdout",
     "output_type": "stream",
     "text": [
      "✅ 033_S_4179 processed successfully in NC\n"
     ]
    },
    {
     "name": "stderr",
     "output_type": "stream",
     "text": [
      "Processing NC:  23%|███████████████                                                   | 23/101 [00:41<02:11,  1.69s/it]"
     ]
    },
    {
     "name": "stdout",
     "output_type": "stream",
     "text": [
      "✅ 033_S_5198 processed successfully in NC\n"
     ]
    },
    {
     "name": "stderr",
     "output_type": "stream",
     "text": [
      "Processing NC:  24%|███████████████▋                                                  | 24/101 [00:43<02:02,  1.59s/it]"
     ]
    },
    {
     "name": "stdout",
     "output_type": "stream",
     "text": [
      "✅ 035_S_0156 processed successfully in NC\n"
     ]
    },
    {
     "name": "stderr",
     "output_type": "stream",
     "text": [
      "Processing NC:  25%|████████████████▎                                                 | 25/101 [00:45<02:08,  1.69s/it]"
     ]
    },
    {
     "name": "stdout",
     "output_type": "stream",
     "text": [
      "✅ 035_S_4464 processed successfully in NC\n"
     ]
    },
    {
     "name": "stderr",
     "output_type": "stream",
     "text": [
      "Processing NC:  26%|████████████████▉                                                 | 26/101 [00:47<02:12,  1.76s/it]"
     ]
    },
    {
     "name": "stdout",
     "output_type": "stream",
     "text": [
      "✅ 035_S_6156 processed successfully in NC\n"
     ]
    },
    {
     "name": "stderr",
     "output_type": "stream",
     "text": [
      "Processing NC:  27%|█████████████████▋                                                | 27/101 [00:49<02:15,  1.83s/it]"
     ]
    },
    {
     "name": "stdout",
     "output_type": "stream",
     "text": [
      "✅ 036_S_4389 processed successfully in NC\n"
     ]
    },
    {
     "name": "stderr",
     "output_type": "stream",
     "text": [
      "Processing NC:  28%|██████████████████▎                                               | 28/101 [00:51<02:13,  1.83s/it]"
     ]
    },
    {
     "name": "stdout",
     "output_type": "stream",
     "text": [
      "✅ 037_S_4028 processed successfully in NC\n"
     ]
    },
    {
     "name": "stderr",
     "output_type": "stream",
     "text": [
      "Processing NC:  29%|██████████████████▉                                               | 29/101 [00:52<02:11,  1.83s/it]"
     ]
    },
    {
     "name": "stdout",
     "output_type": "stream",
     "text": [
      "✅ 037_S_4071 processed successfully in NC\n"
     ]
    },
    {
     "name": "stderr",
     "output_type": "stream",
     "text": [
      "Processing NC:  30%|███████████████████▌                                              | 30/101 [00:54<02:13,  1.87s/it]"
     ]
    },
    {
     "name": "stdout",
     "output_type": "stream",
     "text": [
      "✅ 037_S_4308 processed successfully in NC\n"
     ]
    },
    {
     "name": "stderr",
     "output_type": "stream",
     "text": [
      "Processing NC:  31%|████████████████████▎                                             | 31/101 [00:56<02:08,  1.84s/it]"
     ]
    },
    {
     "name": "stdout",
     "output_type": "stream",
     "text": [
      "✅ 037_S_4410 processed successfully in NC\n"
     ]
    },
    {
     "name": "stderr",
     "output_type": "stream",
     "text": [
      "Processing NC:  32%|████████████████████▉                                             | 32/101 [00:58<02:06,  1.83s/it]"
     ]
    },
    {
     "name": "stdout",
     "output_type": "stream",
     "text": [
      "✅ 037_S_6046 processed successfully in NC\n"
     ]
    },
    {
     "name": "stderr",
     "output_type": "stream",
     "text": [
      "Processing NC:  33%|█████████████████████▌                                            | 33/101 [01:00<02:06,  1.86s/it]"
     ]
    },
    {
     "name": "stdout",
     "output_type": "stream",
     "text": [
      "✅ 041_S_4200 processed successfully in NC\n"
     ]
    },
    {
     "name": "stderr",
     "output_type": "stream",
     "text": [
      "Processing NC:  34%|██████████████████████▏                                           | 34/101 [01:02<02:05,  1.87s/it]"
     ]
    },
    {
     "name": "stdout",
     "output_type": "stream",
     "text": [
      "✅ 041_S_5100 processed successfully in NC\n"
     ]
    },
    {
     "name": "stderr",
     "output_type": "stream",
     "text": [
      "Processing NC:  35%|██████████████████████▊                                           | 35/101 [01:04<02:02,  1.85s/it]"
     ]
    },
    {
     "name": "stdout",
     "output_type": "stream",
     "text": [
      "✅ 041_S_6159 processed successfully in NC\n"
     ]
    },
    {
     "name": "stderr",
     "output_type": "stream",
     "text": [
      "Processing NC:  36%|███████████████████████▌                                          | 36/101 [01:05<01:58,  1.82s/it]"
     ]
    },
    {
     "name": "stdout",
     "output_type": "stream",
     "text": [
      "✅ 041_S_6192 processed successfully in NC\n"
     ]
    },
    {
     "name": "stderr",
     "output_type": "stream",
     "text": [
      "Processing NC:  37%|████████████████████████▏                                         | 37/101 [01:07<01:59,  1.86s/it]"
     ]
    },
    {
     "name": "stdout",
     "output_type": "stream",
     "text": [
      "✅ 041_S_6292 processed successfully in NC\n"
     ]
    },
    {
     "name": "stderr",
     "output_type": "stream",
     "text": [
      "Processing NC:  38%|████████████████████████▊                                         | 38/101 [01:09<02:02,  1.95s/it]"
     ]
    },
    {
     "name": "stdout",
     "output_type": "stream",
     "text": [
      "✅ 041_S_6314 processed successfully in NC\n"
     ]
    },
    {
     "name": "stderr",
     "output_type": "stream",
     "text": [
      "Processing NC:  39%|█████████████████████████▍                                        | 39/101 [01:11<01:58,  1.91s/it]"
     ]
    },
    {
     "name": "stdout",
     "output_type": "stream",
     "text": [
      "✅ 068_S_0210 processed successfully in NC\n"
     ]
    },
    {
     "name": "stderr",
     "output_type": "stream",
     "text": [
      "Processing NC:  40%|██████████████████████████▏                                       | 40/101 [01:13<01:48,  1.78s/it]"
     ]
    },
    {
     "name": "stdout",
     "output_type": "stream",
     "text": [
      "✅ 068_S_4424 processed successfully in NC\n"
     ]
    },
    {
     "name": "stderr",
     "output_type": "stream",
     "text": [
      "Processing NC:  41%|██████████████████████████▊                                       | 41/101 [01:15<01:48,  1.80s/it]"
     ]
    },
    {
     "name": "stdout",
     "output_type": "stream",
     "text": [
      "✅ 070_S_4856 processed successfully in NC\n"
     ]
    },
    {
     "name": "stderr",
     "output_type": "stream",
     "text": [
      "Processing NC:  42%|███████████████████████████▍                                      | 42/101 [01:16<01:48,  1.83s/it]"
     ]
    },
    {
     "name": "stdout",
     "output_type": "stream",
     "text": [
      "✅ 094_S_4503 processed successfully in NC\n"
     ]
    },
    {
     "name": "stderr",
     "output_type": "stream",
     "text": [
      "Processing NC:  43%|████████████████████████████                                      | 43/101 [01:18<01:47,  1.85s/it]"
     ]
    },
    {
     "name": "stdout",
     "output_type": "stream",
     "text": [
      "✅ 094_S_4560 processed successfully in NC\n"
     ]
    },
    {
     "name": "stderr",
     "output_type": "stream",
     "text": [
      "Processing NC:  44%|████████████████████████████▊                                     | 44/101 [01:20<01:45,  1.86s/it]"
     ]
    },
    {
     "name": "stdout",
     "output_type": "stream",
     "text": [
      "✅ 094_S_6250 processed successfully in NC\n"
     ]
    },
    {
     "name": "stderr",
     "output_type": "stream",
     "text": [
      "Processing NC:  45%|█████████████████████████████▍                                    | 45/101 [01:22<01:47,  1.92s/it]"
     ]
    },
    {
     "name": "stdout",
     "output_type": "stream",
     "text": [
      "✅ 094_S_6269 processed successfully in NC\n"
     ]
    },
    {
     "name": "stderr",
     "output_type": "stream",
     "text": [
      "Processing NC:  46%|██████████████████████████████                                    | 46/101 [01:25<01:54,  2.08s/it]"
     ]
    },
    {
     "name": "stdout",
     "output_type": "stream",
     "text": [
      "✅ 098_S_0896 processed successfully in NC\n"
     ]
    },
    {
     "name": "stderr",
     "output_type": "stream",
     "text": [
      "Processing NC:  47%|██████████████████████████████▋                                   | 47/101 [01:27<01:52,  2.08s/it]"
     ]
    },
    {
     "name": "stdout",
     "output_type": "stream",
     "text": [
      "✅ 098_S_4003 processed successfully in NC\n"
     ]
    },
    {
     "name": "stderr",
     "output_type": "stream",
     "text": [
      "Processing NC:  48%|███████████████████████████████▎                                  | 48/101 [01:28<01:41,  1.92s/it]"
     ]
    },
    {
     "name": "stdout",
     "output_type": "stream",
     "text": [
      "✅ 098_S_4275 processed successfully in NC\n"
     ]
    },
    {
     "name": "stderr",
     "output_type": "stream",
     "text": [
      "Processing NC:  49%|████████████████████████████████                                  | 49/101 [01:30<01:42,  1.98s/it]"
     ]
    },
    {
     "name": "stdout",
     "output_type": "stream",
     "text": [
      "✅ 098_S_4506 processed successfully in NC\n"
     ]
    },
    {
     "name": "stderr",
     "output_type": "stream",
     "text": [
      "Processing NC:  50%|████████████████████████████████▋                                 | 50/101 [01:33<01:41,  1.99s/it]"
     ]
    },
    {
     "name": "stdout",
     "output_type": "stream",
     "text": [
      "✅ 099_S_4076 processed successfully in NC\n"
     ]
    },
    {
     "name": "stderr",
     "output_type": "stream",
     "text": [
      "Processing NC:  50%|█████████████████████████████████▎                                | 51/101 [01:34<01:39,  1.98s/it]"
     ]
    },
    {
     "name": "stdout",
     "output_type": "stream",
     "text": [
      "✅ 099_S_4086 processed successfully in NC\n"
     ]
    },
    {
     "name": "stderr",
     "output_type": "stream",
     "text": [
      "Processing NC:  51%|█████████████████████████████████▉                                | 52/101 [01:37<01:38,  2.01s/it]"
     ]
    },
    {
     "name": "stdout",
     "output_type": "stream",
     "text": [
      "✅ 099_S_4104 processed successfully in NC\n"
     ]
    },
    {
     "name": "stderr",
     "output_type": "stream",
     "text": [
      "Processing NC:  52%|██████████████████████████████████▋                               | 53/101 [01:38<01:33,  1.95s/it]"
     ]
    },
    {
     "name": "stdout",
     "output_type": "stream",
     "text": [
      "✅ 099_S_6025 processed successfully in NC\n"
     ]
    },
    {
     "name": "stderr",
     "output_type": "stream",
     "text": [
      "Processing NC:  53%|███████████████████████████████████▎                              | 54/101 [01:40<01:30,  1.92s/it]"
     ]
    },
    {
     "name": "stdout",
     "output_type": "stream",
     "text": [
      "✅ 099_S_6097 processed successfully in NC\n"
     ]
    },
    {
     "name": "stderr",
     "output_type": "stream",
     "text": [
      "Processing NC:  54%|███████████████████████████████████▉                              | 55/101 [01:41<01:18,  1.71s/it]"
     ]
    },
    {
     "name": "stdout",
     "output_type": "stream",
     "text": [
      "✅ 100_S_0069 processed successfully in NC\n"
     ]
    },
    {
     "name": "stderr",
     "output_type": "stream",
     "text": [
      "Processing NC:  55%|████████████████████████████████████▌                             | 56/101 [01:43<01:12,  1.62s/it]"
     ]
    },
    {
     "name": "stdout",
     "output_type": "stream",
     "text": [
      "✅ 100_S_1286 processed successfully in NC\n"
     ]
    },
    {
     "name": "stderr",
     "output_type": "stream",
     "text": [
      "Processing NC:  56%|█████████████████████████████████████▏                            | 57/101 [01:45<01:12,  1.66s/it]"
     ]
    },
    {
     "name": "stdout",
     "output_type": "stream",
     "text": [
      "✅ 100_S_4469 processed successfully in NC\n"
     ]
    },
    {
     "name": "stderr",
     "output_type": "stream",
     "text": [
      "Processing NC:  57%|█████████████████████████████████████▉                            | 58/101 [01:47<01:15,  1.76s/it]"
     ]
    },
    {
     "name": "stdout",
     "output_type": "stream",
     "text": [
      "✅ 100_S_5091 processed successfully in NC\n"
     ]
    },
    {
     "name": "stderr",
     "output_type": "stream",
     "text": [
      "Processing NC:  58%|██████████████████████████████████████▌                           | 59/101 [01:48<01:15,  1.79s/it]"
     ]
    },
    {
     "name": "stdout",
     "output_type": "stream",
     "text": [
      "✅ 100_S_6308 processed successfully in NC\n"
     ]
    },
    {
     "name": "stderr",
     "output_type": "stream",
     "text": [
      "Processing NC:  59%|███████████████████████████████████████▏                          | 60/101 [01:50<01:13,  1.80s/it]"
     ]
    },
    {
     "name": "stdout",
     "output_type": "stream",
     "text": [
      "✅ 109_S_4499 processed successfully in NC\n"
     ]
    },
    {
     "name": "stderr",
     "output_type": "stream",
     "text": [
      "Processing NC:  60%|███████████████████████████████████████▊                          | 61/101 [01:52<01:12,  1.81s/it]"
     ]
    },
    {
     "name": "stdout",
     "output_type": "stream",
     "text": [
      "✅ 114_S_6063 processed successfully in NC\n"
     ]
    },
    {
     "name": "stderr",
     "output_type": "stream",
     "text": [
      "Processing NC:  61%|████████████████████████████████████████▌                         | 62/101 [01:54<01:12,  1.86s/it]"
     ]
    },
    {
     "name": "stdout",
     "output_type": "stream",
     "text": [
      "✅ 114_S_6113 processed successfully in NC\n"
     ]
    },
    {
     "name": "stderr",
     "output_type": "stream",
     "text": [
      "Processing NC:  62%|█████████████████████████████████████████▏                        | 63/101 [01:56<01:11,  1.88s/it]"
     ]
    },
    {
     "name": "stdout",
     "output_type": "stream",
     "text": [
      "✅ 116_S_4043 processed successfully in NC\n"
     ]
    },
    {
     "name": "stderr",
     "output_type": "stream",
     "text": [
      "Processing NC:  63%|█████████████████████████████████████████▊                        | 64/101 [01:58<01:10,  1.90s/it]"
     ]
    },
    {
     "name": "stdout",
     "output_type": "stream",
     "text": [
      "✅ 116_S_4483 processed successfully in NC\n"
     ]
    },
    {
     "name": "stderr",
     "output_type": "stream",
     "text": [
      "Processing NC:  64%|██████████████████████████████████████████▍                       | 65/101 [02:00<01:06,  1.86s/it]"
     ]
    },
    {
     "name": "stdout",
     "output_type": "stream",
     "text": [
      "✅ 127_S_0259 processed successfully in NC\n"
     ]
    },
    {
     "name": "stderr",
     "output_type": "stream",
     "text": [
      "Processing NC:  65%|███████████████████████████████████████████▏                      | 66/101 [02:01<01:00,  1.72s/it]"
     ]
    },
    {
     "name": "stdout",
     "output_type": "stream",
     "text": [
      "✅ 127_S_4148 processed successfully in NC\n"
     ]
    },
    {
     "name": "stderr",
     "output_type": "stream",
     "text": [
      "Processing NC:  66%|███████████████████████████████████████████▊                      | 67/101 [02:03<01:01,  1.80s/it]"
     ]
    },
    {
     "name": "stdout",
     "output_type": "stream",
     "text": [
      "✅ 127_S_4645 processed successfully in NC\n"
     ]
    },
    {
     "name": "stderr",
     "output_type": "stream",
     "text": [
      "Processing NC:  67%|████████████████████████████████████████████▍                     | 68/101 [02:05<01:00,  1.83s/it]"
     ]
    },
    {
     "name": "stdout",
     "output_type": "stream",
     "text": [
      "✅ 127_S_4843 processed successfully in NC\n"
     ]
    },
    {
     "name": "stderr",
     "output_type": "stream",
     "text": [
      "Processing NC:  68%|█████████████████████████████████████████████                     | 69/101 [02:07<00:59,  1.85s/it]"
     ]
    },
    {
     "name": "stdout",
     "output_type": "stream",
     "text": [
      "✅ 127_S_6168 processed successfully in NC\n"
     ]
    },
    {
     "name": "stderr",
     "output_type": "stream",
     "text": [
      "Processing NC:  69%|█████████████████████████████████████████████▋                    | 70/101 [02:09<00:59,  1.91s/it]"
     ]
    },
    {
     "name": "stdout",
     "output_type": "stream",
     "text": [
      "✅ 127_S_6173 processed successfully in NC\n"
     ]
    },
    {
     "name": "stderr",
     "output_type": "stream",
     "text": [
      "Processing NC:  70%|██████████████████████████████████████████████▍                   | 71/101 [02:11<00:54,  1.81s/it]"
     ]
    },
    {
     "name": "stdout",
     "output_type": "stream",
     "text": [
      "✅ 127_S_6330 processed successfully in NC\n"
     ]
    },
    {
     "name": "stderr",
     "output_type": "stream",
     "text": [
      "Processing NC:  71%|███████████████████████████████████████████████                   | 72/101 [02:12<00:49,  1.69s/it]"
     ]
    },
    {
     "name": "stdout",
     "output_type": "stream",
     "text": [
      "✅ 129_S_0778 processed successfully in NC\n"
     ]
    },
    {
     "name": "stderr",
     "output_type": "stream",
     "text": [
      "Processing NC:  72%|███████████████████████████████████████████████▋                  | 73/101 [02:13<00:44,  1.58s/it]"
     ]
    },
    {
     "name": "stdout",
     "output_type": "stream",
     "text": [
      "✅ 129_S_4396 processed successfully in NC\n"
     ]
    },
    {
     "name": "stderr",
     "output_type": "stream",
     "text": [
      "Processing NC:  73%|████████████████████████████████████████████████▎                 | 74/101 [02:15<00:45,  1.69s/it]"
     ]
    },
    {
     "name": "stdout",
     "output_type": "stream",
     "text": [
      "✅ 129_S_6228 processed successfully in NC\n"
     ]
    },
    {
     "name": "stderr",
     "output_type": "stream",
     "text": [
      "Processing NC:  74%|█████████████████████████████████████████████████                 | 75/101 [02:17<00:45,  1.77s/it]"
     ]
    },
    {
     "name": "stdout",
     "output_type": "stream",
     "text": [
      "✅ 130_S_0969 processed successfully in NC\n"
     ]
    },
    {
     "name": "stderr",
     "output_type": "stream",
     "text": [
      "Processing NC:  75%|█████████████████████████████████████████████████▋                | 76/101 [02:19<00:46,  1.86s/it]"
     ]
    },
    {
     "name": "stdout",
     "output_type": "stream",
     "text": [
      "✅ 130_S_6035 processed successfully in NC\n"
     ]
    },
    {
     "name": "stderr",
     "output_type": "stream",
     "text": [
      "Processing NC:  76%|██████████████████████████████████████████████████▎               | 77/101 [02:21<00:44,  1.87s/it]"
     ]
    },
    {
     "name": "stdout",
     "output_type": "stream",
     "text": [
      "✅ 130_S_6105 processed successfully in NC\n"
     ]
    },
    {
     "name": "stderr",
     "output_type": "stream",
     "text": [
      "Processing NC:  77%|██████████████████████████████████████████████████▉               | 78/101 [02:23<00:42,  1.86s/it]"
     ]
    },
    {
     "name": "stdout",
     "output_type": "stream",
     "text": [
      "✅ 130_S_6111 processed successfully in NC\n"
     ]
    },
    {
     "name": "stderr",
     "output_type": "stream",
     "text": [
      "Processing NC:  78%|███████████████████████████████████████████████████▌              | 79/101 [02:25<00:41,  1.89s/it]"
     ]
    },
    {
     "name": "stdout",
     "output_type": "stream",
     "text": [
      "✅ 130_S_6137 processed successfully in NC\n"
     ]
    },
    {
     "name": "stderr",
     "output_type": "stream",
     "text": [
      "Processing NC:  79%|████████████████████████████████████████████████████▎             | 80/101 [02:27<00:39,  1.87s/it]"
     ]
    },
    {
     "name": "stdout",
     "output_type": "stream",
     "text": [
      "✅ 131_S_0123 processed successfully in NC\n"
     ]
    },
    {
     "name": "stderr",
     "output_type": "stream",
     "text": [
      "Processing NC:  80%|████████████████████████████████████████████████████▉             | 81/101 [02:29<00:38,  1.94s/it]"
     ]
    },
    {
     "name": "stdout",
     "output_type": "stream",
     "text": [
      "✅ 135_S_4446 processed successfully in NC\n"
     ]
    },
    {
     "name": "stderr",
     "output_type": "stream",
     "text": [
      "Processing NC:  81%|█████████████████████████████████████████████████████▌            | 82/101 [02:31<00:36,  1.93s/it]"
     ]
    },
    {
     "name": "stdout",
     "output_type": "stream",
     "text": [
      "✅ 135_S_4598 processed successfully in NC\n"
     ]
    },
    {
     "name": "stderr",
     "output_type": "stream",
     "text": [
      "Processing NC:  82%|██████████████████████████████████████████████████████▏           | 83/101 [02:32<00:33,  1.87s/it]"
     ]
    },
    {
     "name": "stdout",
     "output_type": "stream",
     "text": [
      "✅ 137_S_4466 processed successfully in NC\n"
     ]
    },
    {
     "name": "stderr",
     "output_type": "stream",
     "text": [
      "Processing NC:  83%|██████████████████████████████████████████████████████▉           | 84/101 [02:34<00:31,  1.86s/it]"
     ]
    },
    {
     "name": "stdout",
     "output_type": "stream",
     "text": [
      "✅ 137_S_4482 processed successfully in NC\n"
     ]
    },
    {
     "name": "stderr",
     "output_type": "stream",
     "text": [
      "Processing NC:  84%|███████████████████████████████████████████████████████▌          | 85/101 [02:36<00:30,  1.88s/it]"
     ]
    },
    {
     "name": "stdout",
     "output_type": "stream",
     "text": [
      "✅ 141_S_0767 processed successfully in NC\n"
     ]
    },
    {
     "name": "stderr",
     "output_type": "stream",
     "text": [
      "Processing NC:  85%|████████████████████████████████████████████████████████▏         | 86/101 [02:38<00:28,  1.90s/it]"
     ]
    },
    {
     "name": "stdout",
     "output_type": "stream",
     "text": [
      "✅ 141_S_6008 processed successfully in NC\n"
     ]
    },
    {
     "name": "stderr",
     "output_type": "stream",
     "text": [
      "Processing NC:  86%|████████████████████████████████████████████████████████▊         | 87/101 [02:40<00:27,  1.94s/it]"
     ]
    },
    {
     "name": "stdout",
     "output_type": "stream",
     "text": [
      "✅ 141_S_6061 processed successfully in NC\n"
     ]
    },
    {
     "name": "stderr",
     "output_type": "stream",
     "text": [
      "Processing NC:  87%|█████████████████████████████████████████████████████████▌        | 88/101 [02:42<00:22,  1.76s/it]"
     ]
    },
    {
     "name": "stdout",
     "output_type": "stream",
     "text": [
      "✅ 141_S_6116 processed successfully in NC\n"
     ]
    },
    {
     "name": "stderr",
     "output_type": "stream",
     "text": [
      "Processing NC:  88%|██████████████████████████████████████████████████████████▏       | 89/101 [02:43<00:19,  1.65s/it]"
     ]
    },
    {
     "name": "stdout",
     "output_type": "stream",
     "text": [
      "✅ 168_S_6065 processed successfully in NC\n"
     ]
    },
    {
     "name": "stderr",
     "output_type": "stream",
     "text": [
      "Processing NC:  89%|██████████████████████████████████████████████████████████▊       | 90/101 [02:45<00:18,  1.68s/it]"
     ]
    },
    {
     "name": "stdout",
     "output_type": "stream",
     "text": [
      "✅ 168_S_6086 processed successfully in NC\n"
     ]
    },
    {
     "name": "stderr",
     "output_type": "stream",
     "text": [
      "Processing NC:  90%|███████████████████████████████████████████████████████████▍      | 91/101 [02:47<00:17,  1.73s/it]"
     ]
    },
    {
     "name": "stdout",
     "output_type": "stream",
     "text": [
      "✅ 168_S_6108 processed successfully in NC\n"
     ]
    },
    {
     "name": "stderr",
     "output_type": "stream",
     "text": [
      "Processing NC:  91%|████████████████████████████████████████████████████████████      | 92/101 [02:49<00:16,  1.81s/it]"
     ]
    },
    {
     "name": "stdout",
     "output_type": "stream",
     "text": [
      "✅ 168_S_6128 processed successfully in NC\n"
     ]
    },
    {
     "name": "stderr",
     "output_type": "stream",
     "text": [
      "Processing NC:  92%|████████████████████████████████████████████████████████████▊     | 93/101 [02:50<00:14,  1.82s/it]"
     ]
    },
    {
     "name": "stdout",
     "output_type": "stream",
     "text": [
      "✅ 168_S_6233 processed successfully in NC\n"
     ]
    },
    {
     "name": "stderr",
     "output_type": "stream",
     "text": [
      "Processing NC:  93%|█████████████████████████████████████████████████████████████▍    | 94/101 [02:52<00:12,  1.81s/it]"
     ]
    },
    {
     "name": "stdout",
     "output_type": "stream",
     "text": [
      "✅ 168_S_6281 processed successfully in NC\n"
     ]
    },
    {
     "name": "stderr",
     "output_type": "stream",
     "text": [
      "Processing NC:  94%|██████████████████████████████████████████████████████████████    | 95/101 [02:54<00:10,  1.83s/it]"
     ]
    },
    {
     "name": "stdout",
     "output_type": "stream",
     "text": [
      "✅ 301_S_6224 processed successfully in NC\n"
     ]
    },
    {
     "name": "stderr",
     "output_type": "stream",
     "text": [
      "Processing NC:  95%|██████████████████████████████████████████████████████████████▋   | 96/101 [02:56<00:09,  1.89s/it]"
     ]
    },
    {
     "name": "stdout",
     "output_type": "stream",
     "text": [
      "✅ 301_S_6326 processed successfully in NC\n"
     ]
    },
    {
     "name": "stderr",
     "output_type": "stream",
     "text": [
      "Processing NC:  96%|███████████████████████████████████████████████████████████████▍  | 97/101 [02:58<00:07,  1.97s/it]"
     ]
    },
    {
     "name": "stdout",
     "output_type": "stream",
     "text": [
      "✅ 941_S_4100 processed successfully in NC\n"
     ]
    },
    {
     "name": "stderr",
     "output_type": "stream",
     "text": [
      "Processing NC:  97%|████████████████████████████████████████████████████████████████  | 98/101 [03:00<00:05,  1.95s/it]"
     ]
    },
    {
     "name": "stdout",
     "output_type": "stream",
     "text": [
      "✅ 941_S_4292 processed successfully in NC\n"
     ]
    },
    {
     "name": "stderr",
     "output_type": "stream",
     "text": [
      "Processing NC:  98%|████████████████████████████████████████████████████████████████▋ | 99/101 [03:02<00:03,  1.99s/it]"
     ]
    },
    {
     "name": "stdout",
     "output_type": "stream",
     "text": [
      "✅ 941_S_6044 processed successfully in NC\n"
     ]
    },
    {
     "name": "stderr",
     "output_type": "stream",
     "text": [
      "Processing NC:  99%|████████████████████████████████████████████████████████████████▎| 100/101 [03:04<00:01,  1.90s/it]"
     ]
    },
    {
     "name": "stdout",
     "output_type": "stream",
     "text": [
      "✅ 941_S_6054 processed successfully in NC\n"
     ]
    },
    {
     "name": "stderr",
     "output_type": "stream",
     "text": [
      "Processing NC: 100%|█████████████████████████████████████████████████████████████████| 101/101 [03:06<00:00,  1.84s/it]"
     ]
    },
    {
     "name": "stdout",
     "output_type": "stream",
     "text": [
      "✅ 941_S_6080 processed successfully in NC\n",
      "✅ Slicing and saving completed for all axes!\n"
     ]
    },
    {
     "name": "stderr",
     "output_type": "stream",
     "text": [
      "\n"
     ]
    }
   ],
   "source": [
    "#slice\n",
    "import os\n",
    "import numpy as np\n",
    "import nibabel as nib\n",
    "import matplotlib.pyplot as plt\n",
    "from tqdm import tqdm\n",
    "import glob  # To handle wildcard filename matching\n",
    "\n",
    "# Define base path\n",
    "base_path = r\"C:\\Users\\Alma\\Desktop\\Data\"\n",
    "\n",
    "# Define output base directory\n",
    "output_base_path = os.path.join(base_path, \"sliced_data\")\n",
    "\n",
    "# Ensure `sliced_data/MCI` and `sliced_data/NC` exist\n",
    "for category in [\"MCI\", \"NC\"]:\n",
    "    os.makedirs(os.path.join(output_base_path, category), exist_ok=True)\n",
    "\n",
    "# Define slicing directions\n",
    "output_dirs = {\n",
    "    \"Sliced_X_FA\": 0,  # Sagittal (X-axis)\n",
    "    \"Sliced_Y_FA\": 1,  # Coronal (Y-axis)\n",
    "    \"Sliced_Z_FA\": 2   # Axial (Z-axis)\n",
    "}\n",
    "\n",
    "# Process each subject in MCI and NC\n",
    "for category in [\"MCI\", \"NC\"]:\n",
    "    category_path = os.path.join(base_path, category)\n",
    "\n",
    "    if not os.path.exists(category_path):\n",
    "        print(f\"⚠️ Warning: {category_path} does not exist. Skipping...\")\n",
    "        continue  \n",
    "\n",
    "    subjects = os.listdir(category_path)\n",
    "    if not subjects:\n",
    "        print(f\"⚠️ Warning: No subjects found in {category_path}. Skipping...\")\n",
    "        continue  \n",
    "\n",
    "    for subject in tqdm(subjects, desc=f\"Processing {category}\"):\n",
    "        subject_path = os.path.join(category_path, subject)\n",
    "\n",
    "        # Find the FA file based on the category\n",
    "        if category == \"MCI\":\n",
    "            fa_path = os.path.join(subject_path, \"FA_to_MNI_linear.nii.gz\")\n",
    "        else:  # NC category\n",
    "            fa_files = glob.glob(os.path.join(subject_path, \"*_FA_to_MNI_linear.nii.gz\"))\n",
    "            fa_path = fa_files[0] if fa_files else None  # Select the first matching file\n",
    "\n",
    "        if not fa_path or not os.path.exists(fa_path):\n",
    "            print(f\"❌ FA file missing: {fa_path} (Skipping {subject})\")\n",
    "            continue  \n",
    "\n",
    "        # Load FA NIfTI file\n",
    "        try:\n",
    "            img = nib.load(fa_path)\n",
    "            data = img.get_fdata()\n",
    "        except Exception as e:\n",
    "            print(f\"❌ Error loading {fa_path}: {e} (Skipping {subject})\")\n",
    "            continue\n",
    "\n",
    "        # Create subject-specific output directory inside sliced_data\n",
    "        subject_output_dir = os.path.join(output_base_path, category, subject)\n",
    "        \n",
    "        # Create separate folders for each slicing direction\n",
    "        for folder_name in output_dirs.keys():\n",
    "            os.makedirs(os.path.join(subject_output_dir, folder_name), exist_ok=True)\n",
    "\n",
    "        # Process each slicing direction\n",
    "        for folder_name, axis_idx in output_dirs.items():\n",
    "            num_slices = data.shape[axis_idx]\n",
    "\n",
    "            if num_slices == 0:\n",
    "                print(f\"⚠️ Skipping {subject} ({category}) - No slices found!\")\n",
    "                continue  \n",
    "\n",
    "            selected_slices = np.linspace(0, num_slices - 1, 100, dtype=int)\n",
    "\n",
    "            slice_output_dir = os.path.join(subject_output_dir, folder_name)\n",
    "\n",
    "            # Slice and save images\n",
    "            for i, slice_idx in enumerate(selected_slices):\n",
    "                if axis_idx == 2:  # Axial (Z-axis)\n",
    "                    slice_data = data[:, :, slice_idx]\n",
    "                elif axis_idx == 1:  # Coronal (Y-axis)\n",
    "                    slice_data = data[:, slice_idx, :]\n",
    "                elif axis_idx == 0:  # Sagittal (X-axis)\n",
    "                    slice_data = data[slice_idx, :, :]\n",
    "\n",
    "                # Normalize to [0, 255]\n",
    "                slice_norm = (slice_data - np.min(slice_data)) / (np.max(slice_data) - np.min(slice_data) + 1e-6)\n",
    "                slice_norm = (slice_norm * 255).astype(np.uint8)\n",
    "\n",
    "                # Save as PNG\n",
    "                slice_filename = os.path.join(slice_output_dir, f\"slice_{i:03d}.png\")\n",
    "                plt.imsave(slice_filename, slice_norm, cmap=\"gray\")\n",
    "\n",
    "        print(f\"✅ {subject} processed successfully in {category}\")\n",
    "\n",
    "print(\"✅ Slicing and saving completed for all axes!\")"
   ]
  },
  {
   "cell_type": "code",
   "execution_count": null,
   "id": "e794b8e0-a307-464a-9877-86ab79110476",
   "metadata": {},
   "outputs": [],
   "source": []
  }
 ],
 "metadata": {
  "kernelspec": {
   "display_name": "Python 3 (ipykernel)",
   "language": "python",
   "name": "python3"
  },
  "language_info": {
   "codemirror_mode": {
    "name": "ipython",
    "version": 3
   },
   "file_extension": ".py",
   "mimetype": "text/x-python",
   "name": "python",
   "nbconvert_exporter": "python",
   "pygments_lexer": "ipython3",
   "version": "3.11.5"
  }
 },
 "nbformat": 4,
 "nbformat_minor": 5
}
